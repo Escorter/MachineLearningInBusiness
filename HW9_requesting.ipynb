{
 "cells": [
  {
   "cell_type": "markdown",
   "id": "29903f86",
   "metadata": {},
   "source": [
    "### Домашняя работа к Уроку 9 (II часть. Запросы на сервер)\n",
    "### Студент: Абрамов А.В."
   ]
  },
  {
   "cell_type": "code",
   "execution_count": 21,
   "id": "3120b42a",
   "metadata": {
    "ExecuteTime": {
     "end_time": "2023-07-18T22:09:08.034351Z",
     "start_time": "2023-07-18T22:09:08.027370Z"
    }
   },
   "outputs": [],
   "source": [
    "import requests\n",
    "import json \n",
    "import pandas as pd\n",
    "import numpy as np\n",
    "from sklearn.metrics import roc_auc_score, roc_curve, precision_recall_curve\n",
    "from sklearn.metrics import f1_score\n",
    "from urllib import request, parse\n",
    "import time"
   ]
  },
  {
   "cell_type": "code",
   "execution_count": 10,
   "id": "c6aba270",
   "metadata": {
    "ExecuteTime": {
     "end_time": "2023-07-18T22:01:31.849010Z",
     "start_time": "2023-07-18T22:01:31.836063Z"
    }
   },
   "outputs": [],
   "source": [
    "# Пример данных\n",
    "data = (26.7, 7.7, 200)"
   ]
  },
  {
   "cell_type": "code",
   "execution_count": 11,
   "id": "c94adaa4",
   "metadata": {
    "ExecuteTime": {
     "end_time": "2023-07-18T22:01:32.578815Z",
     "start_time": "2023-07-18T22:01:32.564750Z"
    }
   },
   "outputs": [],
   "source": [
    "# формируем запрос\n",
    "def send_json(x):\n",
    "    bmi, HbA1c_level, blood_glucose_level = x\n",
    "    #print(bmi, HbA1c_level, blood_glucose_level)\n",
    "    body = {\n",
    "        'bmi': bmi, \n",
    "        'HbA1c_level': HbA1c_level,\n",
    "        'blood_glucose_level': blood_glucose_level\n",
    "        }\n",
    "    #myurl = 'http://948a-35-230-58-89.ngrok.io/' + '/predict'\n",
    "    myurl = 'http://127.0.0.1:8080/' + '/predict'\n",
    "    headers = {'content-type': 'application/json; charset=utf-8'}\n",
    "    response = requests.post(myurl, json=body, headers=headers)\n",
    "    return response.json()['predictions']"
   ]
  },
  {
   "cell_type": "code",
   "execution_count": 12,
   "id": "21238b97",
   "metadata": {
    "ExecuteTime": {
     "end_time": "2023-07-18T22:01:33.232550Z",
     "start_time": "2023-07-18T22:01:33.203971Z"
    }
   },
   "outputs": [
    {
     "name": "stdout",
     "output_type": "stream",
     "text": [
      "предсказание 0.9243304034342975\n"
     ]
    }
   ],
   "source": [
    "# обращение к серверу с запросом из одного набора (его построили руками выше - data)\n",
    "response = send_json(data)\n",
    "print('предсказание', response)"
   ]
  },
  {
   "cell_type": "code",
   "execution_count": 14,
   "id": "f7888c14",
   "metadata": {
    "ExecuteTime": {
     "end_time": "2023-07-18T22:03:45.639344Z",
     "start_time": "2023-07-18T22:03:45.604601Z"
    }
   },
   "outputs": [],
   "source": [
    "X_test = pd.read_csv('X_test.csv')\n",
    "y_test = pd.read_csv('y_test.csv')"
   ]
  },
  {
   "cell_type": "code",
   "execution_count": 20,
   "id": "cd496754",
   "metadata": {
    "ExecuteTime": {
     "end_time": "2023-07-18T22:08:31.882182Z",
     "start_time": "2023-07-18T22:08:31.701585Z"
    }
   },
   "outputs": [
    {
     "data": {
      "text/plain": [
       "0     0.005831\n",
       "1     0.001685\n",
       "2     0.000465\n",
       "3     0.008601\n",
       "4     0.550291\n",
       "5     0.345887\n",
       "6     0.004812\n",
       "7     0.002988\n",
       "8     0.051806\n",
       "9     0.008250\n",
       "10    0.002911\n",
       "11    0.010641\n",
       "12    0.000101\n",
       "13    0.181958\n",
       "14    0.001166\n",
       "15    0.046976\n",
       "16    0.000244\n",
       "17    0.000018\n",
       "18    0.482937\n",
       "19    0.000169\n",
       "dtype: float64"
      ]
     },
     "execution_count": 20,
     "metadata": {},
     "output_type": "execute_result"
    }
   ],
   "source": [
    "# Проверим массовый запрос\n",
    "N=20\n",
    "predictions = X_test[['bmi', 'HbA1c_level', 'blood_glucose_level']].iloc[:N].apply(lambda x: send_json(x), axis=1)\n",
    "predictions"
   ]
  },
  {
   "cell_type": "code",
   "execution_count": 22,
   "id": "25acc2c9",
   "metadata": {
    "ExecuteTime": {
     "end_time": "2023-07-18T22:09:51.810310Z",
     "start_time": "2023-07-18T22:09:51.803342Z"
    }
   },
   "outputs": [
    {
     "name": "stdout",
     "output_type": "stream",
     "text": [
      "Best Threshold=0.5502914968016707, F-Score=0.667, Precision=1.000, Recall=0.500\n"
     ]
    }
   ],
   "source": [
    "precision, recall, thresholds = precision_recall_curve(y_test[:N], predictions)\n",
    "\n",
    "fscore = (2 * precision * recall) / (precision + recall)\n",
    "# locate the index of the largest f score\n",
    "ix = np.argmax(fscore)\n",
    "print(f'Best Threshold={thresholds[ix]}, F-Score={fscore[ix]:.3f}, Precision={precision[ix]:.3f}, Recall={recall[ix]:.3f}')"
   ]
  },
  {
   "cell_type": "code",
   "execution_count": 23,
   "id": "b2bca8c5",
   "metadata": {
    "ExecuteTime": {
     "end_time": "2023-07-18T22:10:26.520103Z",
     "start_time": "2023-07-18T22:10:26.492124Z"
    }
   },
   "outputs": [
    {
     "data": {
      "text/plain": [
       "0.8888888888888888"
      ]
     },
     "execution_count": 23,
     "metadata": {},
     "output_type": "execute_result"
    }
   ],
   "source": [
    "roc_auc_score(y_score=predictions.values, y_true=y_test.values[:N])"
   ]
  },
  {
   "cell_type": "markdown",
   "id": "fdb331c5",
   "metadata": {},
   "source": [
    "#### Вывод: всё работает."
   ]
  }
 ],
 "metadata": {
  "kernelspec": {
   "display_name": "Python 3 (ipykernel)",
   "language": "python",
   "name": "python3"
  },
  "language_info": {
   "codemirror_mode": {
    "name": "ipython",
    "version": 3
   },
   "file_extension": ".py",
   "mimetype": "text/x-python",
   "name": "python",
   "nbconvert_exporter": "python",
   "pygments_lexer": "ipython3",
   "version": "3.9.12"
  },
  "varInspector": {
   "cols": {
    "lenName": 16,
    "lenType": 16,
    "lenVar": 40
   },
   "kernels_config": {
    "python": {
     "delete_cmd_postfix": "",
     "delete_cmd_prefix": "del ",
     "library": "var_list.py",
     "varRefreshCmd": "print(var_dic_list())"
    },
    "r": {
     "delete_cmd_postfix": ") ",
     "delete_cmd_prefix": "rm(",
     "library": "var_list.r",
     "varRefreshCmd": "cat(var_dic_list()) "
    }
   },
   "types_to_exclude": [
    "module",
    "function",
    "builtin_function_or_method",
    "instance",
    "_Feature"
   ],
   "window_display": false
  }
 },
 "nbformat": 4,
 "nbformat_minor": 5
}
