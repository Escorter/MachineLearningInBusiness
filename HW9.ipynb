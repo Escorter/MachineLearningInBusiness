{
 "cells": [
  {
   "cell_type": "markdown",
   "id": "580844f0",
   "metadata": {},
   "source": [
    "### Домашняя работа к Уроку 9 - Итоговый Проект\n",
    "### Студент: Абрамов А.В."
   ]
  },
  {
   "cell_type": "code",
   "execution_count": 60,
   "id": "85ff0e0a",
   "metadata": {
    "ExecuteTime": {
     "end_time": "2023-07-18T21:54:47.829686Z",
     "start_time": "2023-07-18T21:54:47.813136Z"
    }
   },
   "outputs": [],
   "source": [
    "import pandas as pd\n",
    "import dill\n",
    "import numpy as np\n",
    "from sklearn.model_selection import train_test_split\n",
    "from sklearn.base import BaseEstimator, TransformerMixin\n",
    "from sklearn.linear_model import LogisticRegression\n",
    "from sklearn.ensemble import RandomForestClassifier\n",
    "from sklearn.metrics import confusion_matrix, accuracy_score, classification_report\n",
    "from sklearn.metrics import roc_auc_score, roc_curve, precision_recall_curve\n",
    "from sklearn.metrics import f1_score\n",
    "\n",
    "#working with text\n",
    "from sklearn.feature_extraction.text import TfidfVectorizer\n",
    "\n",
    "#normalizing data\n",
    "from sklearn.preprocessing import StandardScaler\n",
    "\n",
    "#pipeline\n",
    "from sklearn.pipeline import Pipeline, FeatureUnion\n",
    "from sklearn.metrics import precision_score,recall_score\n",
    "\n",
    "#imputer\n",
    "from sklearn.impute import SimpleImputer\n",
    "\n",
    "import time\n",
    "import sklearn.datasets\n",
    "\n",
    "from flask import Flask, request, jsonify"
   ]
  },
  {
   "cell_type": "markdown",
   "id": "6f7c01f7",
   "metadata": {},
   "source": [
    "## Chapter 1. Pipeline training"
   ]
  },
  {
   "cell_type": "code",
   "execution_count": 61,
   "id": "9c735f41",
   "metadata": {
    "ExecuteTime": {
     "end_time": "2023-07-18T21:54:49.127810Z",
     "start_time": "2023-07-18T21:54:49.060989Z"
    }
   },
   "outputs": [
    {
     "data": {
      "text/html": [
       "<div>\n",
       "<style scoped>\n",
       "    .dataframe tbody tr th:only-of-type {\n",
       "        vertical-align: middle;\n",
       "    }\n",
       "\n",
       "    .dataframe tbody tr th {\n",
       "        vertical-align: top;\n",
       "    }\n",
       "\n",
       "    .dataframe thead th {\n",
       "        text-align: right;\n",
       "    }\n",
       "</style>\n",
       "<table border=\"1\" class=\"dataframe\">\n",
       "  <thead>\n",
       "    <tr style=\"text-align: right;\">\n",
       "      <th></th>\n",
       "      <th>gender</th>\n",
       "      <th>age</th>\n",
       "      <th>hypertension</th>\n",
       "      <th>heart_disease</th>\n",
       "      <th>smoking_history</th>\n",
       "      <th>bmi</th>\n",
       "      <th>HbA1c_level</th>\n",
       "      <th>blood_glucose_level</th>\n",
       "      <th>diabetes</th>\n",
       "    </tr>\n",
       "  </thead>\n",
       "  <tbody>\n",
       "    <tr>\n",
       "      <th>0</th>\n",
       "      <td>Female</td>\n",
       "      <td>80.0</td>\n",
       "      <td>0</td>\n",
       "      <td>1</td>\n",
       "      <td>never</td>\n",
       "      <td>25.19</td>\n",
       "      <td>6.6</td>\n",
       "      <td>140</td>\n",
       "      <td>0</td>\n",
       "    </tr>\n",
       "    <tr>\n",
       "      <th>1</th>\n",
       "      <td>Female</td>\n",
       "      <td>54.0</td>\n",
       "      <td>0</td>\n",
       "      <td>0</td>\n",
       "      <td>No Info</td>\n",
       "      <td>27.32</td>\n",
       "      <td>6.6</td>\n",
       "      <td>80</td>\n",
       "      <td>0</td>\n",
       "    </tr>\n",
       "    <tr>\n",
       "      <th>2</th>\n",
       "      <td>Male</td>\n",
       "      <td>28.0</td>\n",
       "      <td>0</td>\n",
       "      <td>0</td>\n",
       "      <td>never</td>\n",
       "      <td>27.32</td>\n",
       "      <td>5.7</td>\n",
       "      <td>158</td>\n",
       "      <td>0</td>\n",
       "    </tr>\n",
       "  </tbody>\n",
       "</table>\n",
       "</div>"
      ],
      "text/plain": [
       "   gender   age  hypertension  heart_disease smoking_history    bmi  \\\n",
       "0  Female  80.0             0              1           never  25.19   \n",
       "1  Female  54.0             0              0         No Info  27.32   \n",
       "2    Male  28.0             0              0           never  27.32   \n",
       "\n",
       "   HbA1c_level  blood_glucose_level  diabetes  \n",
       "0          6.6                  140         0  \n",
       "1          6.6                   80         0  \n",
       "2          5.7                  158         0  "
      ]
     },
     "execution_count": 61,
     "metadata": {},
     "output_type": "execute_result"
    }
   ],
   "source": [
    "# Загрузим данные (будем использовать датасет про диабет)\n",
    "df = pd.read_csv('diabetes_prediction_dataset.csv')\n",
    "df.head(3)"
   ]
  },
  {
   "cell_type": "code",
   "execution_count": 62,
   "id": "3c677c3e",
   "metadata": {
    "ExecuteTime": {
     "end_time": "2023-07-18T21:54:49.824969Z",
     "start_time": "2023-07-18T21:54:49.805023Z"
    }
   },
   "outputs": [
    {
     "data": {
      "text/plain": [
       "0    91500\n",
       "1     8500\n",
       "Name: diabetes, dtype: int64"
      ]
     },
     "execution_count": 62,
     "metadata": {},
     "output_type": "execute_result"
    }
   ],
   "source": [
    "df['diabetes'].value_counts()"
   ]
  },
  {
   "cell_type": "code",
   "execution_count": 63,
   "id": "4579b124",
   "metadata": {
    "ExecuteTime": {
     "end_time": "2023-07-18T21:54:50.886006Z",
     "start_time": "2023-07-18T21:54:50.548888Z"
    }
   },
   "outputs": [],
   "source": [
    "X_train, X_test, y_train, y_test = train_test_split(df.drop(columns='diabetes'), df['diabetes'], test_size=0.3, random_state=42)\n",
    "\n",
    "# save test\n",
    "X_test.to_csv('X_test.csv', index=None)\n",
    "y_test.to_csv('y_test.csv', index=None)\n",
    "\n",
    "# save train\n",
    "X_train.to_csv('X_train.csv', index=None)\n",
    "y_train.to_csv('y_train.csv', index=None)"
   ]
  },
  {
   "cell_type": "code",
   "execution_count": 64,
   "id": "ff943274",
   "metadata": {
    "ExecuteTime": {
     "end_time": "2023-07-18T21:54:51.304764Z",
     "start_time": "2023-07-18T21:54:51.292795Z"
    }
   },
   "outputs": [],
   "source": [
    "class ColumnSelector(BaseEstimator, TransformerMixin):\n",
    "    \"\"\"\n",
    "    Transformer to select a single column from the data frame to perform additional transformations on\n",
    "    \"\"\"\n",
    "    def __init__(self, key):\n",
    "        self.key = key\n",
    "\n",
    "    def fit(self, X, y=None):\n",
    "        return self\n",
    "\n",
    "    def transform(self, X):\n",
    "        return X[self.key]\n",
    "    \n",
    "class NumberSelector(BaseEstimator, TransformerMixin):\n",
    "    \"\"\"\n",
    "    Transformer to select a single column from the data frame to perform additional transformations on\n",
    "    Use on numeric columns in the data\n",
    "    \"\"\"\n",
    "    def __init__(self, key):\n",
    "        self.key = key\n",
    "\n",
    "    def fit(self, X, y=None):\n",
    "        return self\n",
    "\n",
    "    def transform(self, X):\n",
    "        return X[[self.key]]"
   ]
  },
  {
   "cell_type": "code",
   "execution_count": 65,
   "id": "3358c419",
   "metadata": {
    "ExecuteTime": {
     "end_time": "2023-07-18T21:54:52.037850Z",
     "start_time": "2023-07-18T21:54:52.020868Z"
    }
   },
   "outputs": [],
   "source": [
    "features = ['bmi', 'HbA1c_level', 'blood_glucose_level']\n",
    "target = 'diabetes'\n",
    "\n",
    "scaled_features = []"
   ]
  },
  {
   "cell_type": "code",
   "execution_count": 66,
   "id": "9befa3f3",
   "metadata": {
    "ExecuteTime": {
     "end_time": "2023-07-18T21:54:52.690896Z",
     "start_time": "2023-07-18T21:54:52.676934Z"
    }
   },
   "outputs": [],
   "source": [
    "for feature in features:\n",
    "    transfomer =  Pipeline([\n",
    "                ('selector', NumberSelector(key=feature)),\n",
    "                ('standard', StandardScaler())\n",
    "            ])\n",
    "    scaled_features.append((feature, transfomer))"
   ]
  },
  {
   "cell_type": "code",
   "execution_count": 67,
   "id": "34ce6432",
   "metadata": {
    "ExecuteTime": {
     "end_time": "2023-07-18T21:54:53.640973Z",
     "start_time": "2023-07-18T21:54:53.628993Z"
    }
   },
   "outputs": [
    {
     "data": {
      "text/plain": [
       "[('bmi',\n",
       "  Pipeline(steps=[('selector', NumberSelector(key='bmi')),\n",
       "                  ('standard', StandardScaler())])),\n",
       " ('HbA1c_level',\n",
       "  Pipeline(steps=[('selector', NumberSelector(key='HbA1c_level')),\n",
       "                  ('standard', StandardScaler())])),\n",
       " ('blood_glucose_level',\n",
       "  Pipeline(steps=[('selector', NumberSelector(key='blood_glucose_level')),\n",
       "                  ('standard', StandardScaler())]))]"
      ]
     },
     "execution_count": 67,
     "metadata": {},
     "output_type": "execute_result"
    }
   ],
   "source": [
    "scaled_features"
   ]
  },
  {
   "cell_type": "code",
   "execution_count": 68,
   "id": "b862eb4e",
   "metadata": {
    "ExecuteTime": {
     "end_time": "2023-07-18T21:54:56.102855Z",
     "start_time": "2023-07-18T21:54:56.092882Z"
    }
   },
   "outputs": [],
   "source": [
    "feats = FeatureUnion(scaled_features)"
   ]
  },
  {
   "cell_type": "code",
   "execution_count": 69,
   "id": "065a8eea",
   "metadata": {
    "ExecuteTime": {
     "end_time": "2023-07-18T21:54:56.735536Z",
     "start_time": "2023-07-18T21:54:56.716306Z"
    }
   },
   "outputs": [
    {
     "data": {
      "text/plain": [
       "array([[-6.19069481e-04, -4.92624842e-01,  4.14557732e-01],\n",
       "       [-6.19069481e-04, -1.89423192e+00,  1.69109989e-01],\n",
       "       [-6.19069481e-04, -1.89423192e+00, -1.99061626e-01],\n",
       "       ...,\n",
       "       [-1.79350769e-01,  2.54898933e-01, -1.30357647e+00],\n",
       "       [-3.58082468e-01,  6.28660821e-01,  4.88192055e-01],\n",
       "       [ 1.00864183e-01, -4.92624842e-01,  5.12736829e-01]])"
      ]
     },
     "execution_count": 69,
     "metadata": {},
     "output_type": "execute_result"
    }
   ],
   "source": [
    "feature_processing = Pipeline([('feats', feats)])\n",
    "\n",
    "feature_processing.fit_transform(X_train)"
   ]
  },
  {
   "cell_type": "code",
   "execution_count": 70,
   "id": "a3b59f8e",
   "metadata": {
    "ExecuteTime": {
     "end_time": "2023-07-18T21:55:00.118180Z",
     "start_time": "2023-07-18T21:55:00.108206Z"
    }
   },
   "outputs": [],
   "source": [
    "# Добавляем классификатор Logistic Regression\n",
    "\n",
    "pipeline = Pipeline([\n",
    "    ('features', feats),\n",
    "    ('classifier', LogisticRegression()),\n",
    "])"
   ]
  },
  {
   "cell_type": "code",
   "execution_count": 71,
   "id": "60487c67",
   "metadata": {
    "ExecuteTime": {
     "end_time": "2023-07-18T21:55:02.395646Z",
     "start_time": "2023-07-18T21:55:02.308878Z"
    }
   },
   "outputs": [
    {
     "data": {
      "text/plain": [
       "Pipeline(steps=[('features',\n",
       "                 FeatureUnion(transformer_list=[('bmi',\n",
       "                                                 Pipeline(steps=[('selector',\n",
       "                                                                  NumberSelector(key='bmi')),\n",
       "                                                                 ('standard',\n",
       "                                                                  StandardScaler())])),\n",
       "                                                ('HbA1c_level',\n",
       "                                                 Pipeline(steps=[('selector',\n",
       "                                                                  NumberSelector(key='HbA1c_level')),\n",
       "                                                                 ('standard',\n",
       "                                                                  StandardScaler())])),\n",
       "                                                ('blood_glucose_level',\n",
       "                                                 Pipeline(steps=[('selector',\n",
       "                                                                  NumberSelector(key='blood_glucose_level')),\n",
       "                                                                 ('standard',\n",
       "                                                                  StandardScaler())]))])),\n",
       "                ('classifier', LogisticRegression())])"
      ]
     },
     "execution_count": 71,
     "metadata": {},
     "output_type": "execute_result"
    }
   ],
   "source": [
    "pipeline.fit(X_train, y_train)"
   ]
  },
  {
   "cell_type": "code",
   "execution_count": 72,
   "id": "3cf15939",
   "metadata": {
    "ExecuteTime": {
     "end_time": "2023-07-18T21:55:06.911407Z",
     "start_time": "2023-07-18T21:55:06.885112Z"
    }
   },
   "outputs": [
    {
     "data": {
      "text/plain": [
       "[('features',\n",
       "  FeatureUnion(transformer_list=[('bmi',\n",
       "                                  Pipeline(steps=[('selector',\n",
       "                                                   NumberSelector(key='bmi')),\n",
       "                                                  ('standard',\n",
       "                                                   StandardScaler())])),\n",
       "                                 ('HbA1c_level',\n",
       "                                  Pipeline(steps=[('selector',\n",
       "                                                   NumberSelector(key='HbA1c_level')),\n",
       "                                                  ('standard',\n",
       "                                                   StandardScaler())])),\n",
       "                                 ('blood_glucose_level',\n",
       "                                  Pipeline(steps=[('selector',\n",
       "                                                   NumberSelector(key='blood_glucose_level')),\n",
       "                                                  ('standard',\n",
       "                                                   StandardScaler())]))])),\n",
       " ('classifier', LogisticRegression())]"
      ]
     },
     "execution_count": 72,
     "metadata": {},
     "output_type": "execute_result"
    }
   ],
   "source": [
    "# Наш pipeline пошагово\n",
    "pipeline.steps"
   ]
  },
  {
   "cell_type": "code",
   "execution_count": 73,
   "id": "3fbf2155",
   "metadata": {
    "ExecuteTime": {
     "end_time": "2023-07-18T21:55:08.573818Z",
     "start_time": "2023-07-18T21:55:08.556844Z"
    }
   },
   "outputs": [],
   "source": [
    "with open('diabetes_logreg_pipeline.dill', 'wb') as f:\n",
    "    dill.dump(pipeline, f)"
   ]
  },
  {
   "cell_type": "markdown",
   "id": "2384b08d",
   "metadata": {},
   "source": [
    "## Chapter 2. Prediction testing"
   ]
  },
  {
   "cell_type": "code",
   "execution_count": 74,
   "id": "ca88425f",
   "metadata": {
    "ExecuteTime": {
     "end_time": "2023-07-18T21:55:11.583681Z",
     "start_time": "2023-07-18T21:55:11.572712Z"
    }
   },
   "outputs": [
    {
     "data": {
      "text/html": [
       "<div>\n",
       "<style scoped>\n",
       "    .dataframe tbody tr th:only-of-type {\n",
       "        vertical-align: middle;\n",
       "    }\n",
       "\n",
       "    .dataframe tbody tr th {\n",
       "        vertical-align: top;\n",
       "    }\n",
       "\n",
       "    .dataframe thead th {\n",
       "        text-align: right;\n",
       "    }\n",
       "</style>\n",
       "<table border=\"1\" class=\"dataframe\">\n",
       "  <thead>\n",
       "    <tr style=\"text-align: right;\">\n",
       "      <th></th>\n",
       "      <th>gender</th>\n",
       "      <th>age</th>\n",
       "      <th>hypertension</th>\n",
       "      <th>heart_disease</th>\n",
       "      <th>smoking_history</th>\n",
       "      <th>bmi</th>\n",
       "      <th>HbA1c_level</th>\n",
       "      <th>blood_glucose_level</th>\n",
       "    </tr>\n",
       "  </thead>\n",
       "  <tbody>\n",
       "    <tr>\n",
       "      <th>75721</th>\n",
       "      <td>Female</td>\n",
       "      <td>13.0</td>\n",
       "      <td>0</td>\n",
       "      <td>0</td>\n",
       "      <td>No Info</td>\n",
       "      <td>20.82</td>\n",
       "      <td>5.8</td>\n",
       "      <td>126</td>\n",
       "    </tr>\n",
       "    <tr>\n",
       "      <th>80184</th>\n",
       "      <td>Female</td>\n",
       "      <td>3.0</td>\n",
       "      <td>0</td>\n",
       "      <td>0</td>\n",
       "      <td>No Info</td>\n",
       "      <td>21.00</td>\n",
       "      <td>5.0</td>\n",
       "      <td>145</td>\n",
       "    </tr>\n",
       "    <tr>\n",
       "      <th>19864</th>\n",
       "      <td>Male</td>\n",
       "      <td>63.0</td>\n",
       "      <td>0</td>\n",
       "      <td>0</td>\n",
       "      <td>former</td>\n",
       "      <td>25.32</td>\n",
       "      <td>3.5</td>\n",
       "      <td>200</td>\n",
       "    </tr>\n",
       "  </tbody>\n",
       "</table>\n",
       "</div>"
      ],
      "text/plain": [
       "       gender   age  hypertension  heart_disease smoking_history    bmi  \\\n",
       "75721  Female  13.0             0              0         No Info  20.82   \n",
       "80184  Female   3.0             0              0         No Info  21.00   \n",
       "19864    Male  63.0             0              0          former  25.32   \n",
       "\n",
       "       HbA1c_level  blood_glucose_level  \n",
       "75721          5.8                  126  \n",
       "80184          5.0                  145  \n",
       "19864          3.5                  200  "
      ]
     },
     "execution_count": 74,
     "metadata": {},
     "output_type": "execute_result"
    }
   ],
   "source": [
    "X_test.head(3)"
   ]
  },
  {
   "cell_type": "code",
   "execution_count": 75,
   "id": "511e5c6a",
   "metadata": {
    "ExecuteTime": {
     "end_time": "2023-07-18T21:55:14.381920Z",
     "start_time": "2023-07-18T21:55:14.372940Z"
    }
   },
   "outputs": [],
   "source": [
    "with open('diabetes_logreg_pipeline.dill', 'rb') as in_strm:\n",
    "    pipeline = dill.load(in_strm)"
   ]
  },
  {
   "cell_type": "code",
   "execution_count": 76,
   "id": "340e8d02",
   "metadata": {
    "ExecuteTime": {
     "end_time": "2023-07-18T21:55:15.391058Z",
     "start_time": "2023-07-18T21:55:15.373082Z"
    }
   },
   "outputs": [],
   "source": [
    "preds = pipeline.predict_proba(X_test)[:, 1]\n",
    "\n",
    "pred_df = pd.DataFrame({'preds': preds})"
   ]
  },
  {
   "cell_type": "code",
   "execution_count": 77,
   "id": "918d9499",
   "metadata": {
    "ExecuteTime": {
     "end_time": "2023-07-18T21:55:16.307969Z",
     "start_time": "2023-07-18T21:55:16.236865Z"
    }
   },
   "outputs": [],
   "source": [
    "pred_df.to_csv(\"test_diabetes_predictions.csv\", index=None)"
   ]
  },
  {
   "cell_type": "code",
   "execution_count": 78,
   "id": "80e1f364",
   "metadata": {
    "ExecuteTime": {
     "end_time": "2023-07-18T21:55:17.152693Z",
     "start_time": "2023-07-18T21:55:17.141753Z"
    }
   },
   "outputs": [
    {
     "name": "stdout",
     "output_type": "stream",
     "text": [
      "Best Threshold=0.5004712543631252, F-Score=0.696, Precision=0.906, Recall=0.565\n"
     ]
    }
   ],
   "source": [
    "precision, recall, thresholds = precision_recall_curve(y_test, preds)\n",
    "\n",
    "fscore = (2 * precision * recall) / (precision + recall)\n",
    "# locate the index of the largest f score\n",
    "ix = np.argmax(fscore)\n",
    "print(f'Best Threshold={thresholds[ix]}, F-Score={fscore[ix]:.3f}, Precision={precision[ix]:.3f}, Recall={recall[ix]:.3f}')"
   ]
  },
  {
   "cell_type": "markdown",
   "id": "695edef7",
   "metadata": {},
   "source": [
    "## Chapter 3. Flask"
   ]
  },
  {
   "cell_type": "code",
   "execution_count": null,
   "id": "78660d2c",
   "metadata": {
    "ExecuteTime": {
     "start_time": "2023-07-18T21:59:09.819Z"
    }
   },
   "outputs": [
    {
     "name": "stdout",
     "output_type": "stream",
     "text": [
      " * Serving Flask app \"__main__\" (lazy loading)\n",
      " * Environment: production\n",
      "\u001b[31m   WARNING: This is a development server. Do not use it in a production deployment.\u001b[0m\n",
      "\u001b[2m   Use a production WSGI server instead.\u001b[0m\n",
      " * Debug mode: off\n"
     ]
    },
    {
     "name": "stderr",
     "output_type": "stream",
     "text": [
      " * Running on http://127.0.0.1:8080/ (Press CTRL+C to quit)\n",
      "127.0.0.1 - - [19/Jul/2023 00:59:14] \"GET / HTTP/1.1\" 200 -\n",
      "127.0.0.1 - - [19/Jul/2023 00:59:20] \"POST //predict HTTP/1.1\" 200 -\n"
     ]
    },
    {
     "name": "stdout",
     "output_type": "stream",
     "text": [
      "180\n",
      "OK\n"
     ]
    },
    {
     "name": "stderr",
     "output_type": "stream",
     "text": [
      "127.0.0.1 - - [19/Jul/2023 00:59:44] \"POST //predict HTTP/1.1\" 200 -\n"
     ]
    },
    {
     "name": "stdout",
     "output_type": "stream",
     "text": [
      "200\n",
      "OK\n"
     ]
    },
    {
     "name": "stderr",
     "output_type": "stream",
     "text": [
      "127.0.0.1 - - [19/Jul/2023 01:01:33] \"POST //predict HTTP/1.1\" 200 -\n"
     ]
    },
    {
     "name": "stdout",
     "output_type": "stream",
     "text": [
      "200\n",
      "OK\n"
     ]
    },
    {
     "name": "stderr",
     "output_type": "stream",
     "text": [
      "127.0.0.1 - - [19/Jul/2023 01:07:47] \"POST //predict HTTP/1.1\" 200 -\n",
      "127.0.0.1 - - [19/Jul/2023 01:07:47] \"POST //predict HTTP/1.1\" 200 -\n",
      "127.0.0.1 - - [19/Jul/2023 01:07:47] \"POST //predict HTTP/1.1\" 200 -\n",
      "127.0.0.1 - - [19/Jul/2023 01:07:47] \"POST //predict HTTP/1.1\" 200 -\n",
      "127.0.0.1 - - [19/Jul/2023 01:07:47] \"POST //predict HTTP/1.1\" 200 -\n",
      "127.0.0.1 - - [19/Jul/2023 01:07:47] \"POST //predict HTTP/1.1\" 200 -\n",
      "127.0.0.1 - - [19/Jul/2023 01:07:47] \"POST //predict HTTP/1.1\" 200 -\n",
      "127.0.0.1 - - [19/Jul/2023 01:07:47] \"POST //predict HTTP/1.1\" 200 -\n",
      "127.0.0.1 - - [19/Jul/2023 01:07:47] \"POST //predict HTTP/1.1\" 200 -\n",
      "127.0.0.1 - - [19/Jul/2023 01:07:47] \"POST //predict HTTP/1.1\" 200 -\n",
      "127.0.0.1 - - [19/Jul/2023 01:07:47] \"POST //predict HTTP/1.1\" 200 -\n",
      "127.0.0.1 - - [19/Jul/2023 01:07:47] \"POST //predict HTTP/1.1\" 200 -\n",
      "127.0.0.1 - - [19/Jul/2023 01:07:47] \"POST //predict HTTP/1.1\" 200 -\n",
      "127.0.0.1 - - [19/Jul/2023 01:07:47] \"POST //predict HTTP/1.1\" 200 -\n",
      "127.0.0.1 - - [19/Jul/2023 01:07:47] \"POST //predict HTTP/1.1\" 200 -\n",
      "127.0.0.1 - - [19/Jul/2023 01:07:47] \"POST //predict HTTP/1.1\" 200 -\n",
      "127.0.0.1 - - [19/Jul/2023 01:07:47] \"POST //predict HTTP/1.1\" 200 -\n",
      "127.0.0.1 - - [19/Jul/2023 01:07:47] \"POST //predict HTTP/1.1\" 200 -\n",
      "127.0.0.1 - - [19/Jul/2023 01:07:47] \"POST //predict HTTP/1.1\" 200 -\n",
      "127.0.0.1 - - [19/Jul/2023 01:07:47] \"POST //predict HTTP/1.1\" 200 -\n"
     ]
    },
    {
     "name": "stdout",
     "output_type": "stream",
     "text": [
      "126.0\n",
      "OK\n",
      "145.0\n",
      "OK\n",
      "200.0\n",
      "OK\n",
      "126.0\n",
      "OK\n",
      "200.0\n",
      "OK\n",
      "200.0\n",
      "OK\n",
      "158.0\n",
      "OK\n",
      "158.0\n",
      "OK\n",
      "145.0\n",
      "OK\n",
      "90.0\n",
      "OK\n",
      "130.0\n",
      "OK\n",
      "90.0\n",
      "OK\n",
      "80.0\n",
      "OK\n",
      "200.0\n",
      "OK\n",
      "130.0\n",
      "OK\n",
      "126.0\n",
      "OK\n",
      "159.0\n",
      "OK\n",
      "100.0\n",
      "OK\n",
      "200.0\n",
      "OK\n",
      "160.0\n",
      "OK\n"
     ]
    },
    {
     "name": "stderr",
     "output_type": "stream",
     "text": [
      "127.0.0.1 - - [19/Jul/2023 01:08:31] \"POST //predict HTTP/1.1\" 200 -\n",
      "127.0.0.1 - - [19/Jul/2023 01:08:31] \"POST //predict HTTP/1.1\" 200 -\n",
      "127.0.0.1 - - [19/Jul/2023 01:08:31] \"POST //predict HTTP/1.1\" 200 -\n",
      "127.0.0.1 - - [19/Jul/2023 01:08:31] \"POST //predict HTTP/1.1\" 200 -\n",
      "127.0.0.1 - - [19/Jul/2023 01:08:31] \"POST //predict HTTP/1.1\" 200 -\n",
      "127.0.0.1 - - [19/Jul/2023 01:08:31] \"POST //predict HTTP/1.1\" 200 -\n",
      "127.0.0.1 - - [19/Jul/2023 01:08:31] \"POST //predict HTTP/1.1\" 200 -\n",
      "127.0.0.1 - - [19/Jul/2023 01:08:31] \"POST //predict HTTP/1.1\" 200 -\n",
      "127.0.0.1 - - [19/Jul/2023 01:08:31] \"POST //predict HTTP/1.1\" 200 -\n",
      "127.0.0.1 - - [19/Jul/2023 01:08:31] \"POST //predict HTTP/1.1\" 200 -\n",
      "127.0.0.1 - - [19/Jul/2023 01:08:31] \"POST //predict HTTP/1.1\" 200 -\n",
      "127.0.0.1 - - [19/Jul/2023 01:08:31] \"POST //predict HTTP/1.1\" 200 -\n",
      "127.0.0.1 - - [19/Jul/2023 01:08:31] \"POST //predict HTTP/1.1\" 200 -\n",
      "127.0.0.1 - - [19/Jul/2023 01:08:31] \"POST //predict HTTP/1.1\" 200 -\n",
      "127.0.0.1 - - [19/Jul/2023 01:08:31] \"POST //predict HTTP/1.1\" 200 -\n",
      "127.0.0.1 - - [19/Jul/2023 01:08:31] \"POST //predict HTTP/1.1\" 200 -\n",
      "127.0.0.1 - - [19/Jul/2023 01:08:31] \"POST //predict HTTP/1.1\" 200 -\n",
      "127.0.0.1 - - [19/Jul/2023 01:08:31] \"POST //predict HTTP/1.1\" 200 -\n",
      "127.0.0.1 - - [19/Jul/2023 01:08:31] \"POST //predict HTTP/1.1\" 200 -\n",
      "127.0.0.1 - - [19/Jul/2023 01:08:31] \"POST //predict HTTP/1.1\" 200 -\n"
     ]
    },
    {
     "name": "stdout",
     "output_type": "stream",
     "text": [
      "126.0\n",
      "OK\n",
      "145.0\n",
      "OK\n",
      "200.0\n",
      "OK\n",
      "126.0\n",
      "OK\n",
      "200.0\n",
      "OK\n",
      "200.0\n",
      "OK\n",
      "158.0\n",
      "OK\n",
      "158.0\n",
      "OK\n",
      "145.0\n",
      "OK\n",
      "90.0\n",
      "OK\n",
      "130.0\n",
      "OK\n",
      "90.0\n",
      "OK\n",
      "80.0\n",
      "OK\n",
      "200.0\n",
      "OK\n",
      "130.0\n",
      "OK\n",
      "126.0\n",
      "OK\n",
      "159.0\n",
      "OK\n",
      "100.0\n",
      "OK\n",
      "200.0\n",
      "OK\n",
      "160.0\n",
      "OK\n"
     ]
    }
   ],
   "source": [
    "app = Flask(__name__)\n",
    "#run_with_ngrok(app)  # Start ngrok when app is run\n",
    "\n",
    "@app.route(\"/\", methods=[\"GET\"])\n",
    "def start():\n",
    "    return \"Welcome to prediction process\"\n",
    "\n",
    "@app.route('/predict', methods=['POST'])\n",
    "def predict():\n",
    "    data = {\"success\": False}\n",
    "\n",
    "    # ensure an image was properly uploaded to our endpoint\n",
    "    bmi, HbA1c_level, blood_glucose_level = 0, 0, 0\n",
    "    \n",
    "    request_json = request.get_json()\n",
    "    \n",
    "    if request_json['bmi']:\n",
    "        bmi = request_json['bmi']\n",
    "    \n",
    "    if request_json['HbA1c_level']:\n",
    "        HbA1c_level = request_json['HbA1c_level']\n",
    "                \n",
    "    if request_json['blood_glucose_level']:\n",
    "        blood_glucose_level = request_json['blood_glucose_level']\n",
    "    \n",
    "    print(blood_glucose_level)  \n",
    "    preds = pipeline.predict_proba(pd.DataFrame({'bmi': [bmi],\n",
    "                                              'HbA1c_level': [HbA1c_level],\n",
    "                                              'blood_glucose_level': [blood_glucose_level]}))\n",
    "    data['predictions'] = preds[:, 1][0]\n",
    "    data['blood_glucose_level'] = blood_glucose_level\n",
    "        # indicate that the request was a success\n",
    "    data[\"success\"] = True\n",
    "    print('OK')\n",
    "\n",
    "        # return the data dictionary as a JSON response\n",
    "    return jsonify(data)\n",
    "\n",
    "\n",
    "if __name__ == '__main__':\n",
    "    app.run(port=8080)"
   ]
  },
  {
   "cell_type": "code",
   "execution_count": null,
   "id": "1841ce59",
   "metadata": {
    "ExecuteTime": {
     "end_time": "2023-07-18T21:46:37.210820Z",
     "start_time": "2023-07-18T21:46:37.210820Z"
    }
   },
   "outputs": [],
   "source": [
    "# Пример данных\n",
    "bmi, HbA1c_level, blood_glucose_level = (26.7, 6.7, 180)\n",
    "\n",
    "body = {\n",
    "        'bmi': bmi, \n",
    "        'HbA1c_level': HbA1c_level,\n",
    "        'blood_glucose_level': blood_glucose_level\n",
    "        }"
   ]
  },
  {
   "cell_type": "code",
   "execution_count": null,
   "id": "607085f4",
   "metadata": {
    "ExecuteTime": {
     "end_time": "2023-07-18T21:46:37.212814Z",
     "start_time": "2023-07-18T21:46:37.212814Z"
    }
   },
   "outputs": [],
   "source": [
    "with app.test_client() as t:\n",
    "    response = t.post('/predict', json=body)\n",
    "    json_data = response.get_json()\n",
    "\n",
    "json_data"
   ]
  }
 ],
 "metadata": {
  "kernelspec": {
   "display_name": "Python 3 (ipykernel)",
   "language": "python",
   "name": "python3"
  },
  "language_info": {
   "codemirror_mode": {
    "name": "ipython",
    "version": 3
   },
   "file_extension": ".py",
   "mimetype": "text/x-python",
   "name": "python",
   "nbconvert_exporter": "python",
   "pygments_lexer": "ipython3",
   "version": "3.9.12"
  },
  "varInspector": {
   "cols": {
    "lenName": 16,
    "lenType": 16,
    "lenVar": 40
   },
   "kernels_config": {
    "python": {
     "delete_cmd_postfix": "",
     "delete_cmd_prefix": "del ",
     "library": "var_list.py",
     "varRefreshCmd": "print(var_dic_list())"
    },
    "r": {
     "delete_cmd_postfix": ") ",
     "delete_cmd_prefix": "rm(",
     "library": "var_list.r",
     "varRefreshCmd": "cat(var_dic_list()) "
    }
   },
   "types_to_exclude": [
    "module",
    "function",
    "builtin_function_or_method",
    "instance",
    "_Feature"
   ],
   "window_display": false
  }
 },
 "nbformat": 4,
 "nbformat_minor": 5
}
